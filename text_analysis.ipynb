{
 "cells": [
  {
   "cell_type": "code",
   "execution_count": 50,
   "metadata": {},
   "outputs": [],
   "source": [
    "from typing import TypedDict, List\n",
    "from langgraph.graph import StateGraph, END\n",
    "from langchain.prompts import PromptTemplate\n",
    "from langchain.schema import HumanMessage\n",
    "from langchain_core.runnables.graph import MermaidDrawMethod\n",
    "from IPython.display import display, Image\n",
    "from dotenv import load_dotenv\n",
    "import os"
   ]
  },
  {
   "cell_type": "code",
   "execution_count": 51,
   "metadata": {},
   "outputs": [
    {
     "data": {
      "text/plain": [
       "'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'"
      ]
     },
     "execution_count": 51,
     "metadata": {},
     "output_type": "execute_result"
    }
   ],
   "source": [
    "groq = os.getenv(\"GROQ_API_KEY\")\n",
    "groq"
   ]
  },
  {
   "cell_type": "code",
   "execution_count": 52,
   "metadata": {},
   "outputs": [],
   "source": [
    "class State(TypedDict):\n",
    "    text: str\n",
    "    classification: str\n",
    "    entities: List[str]\n",
    "    summary: str"
   ]
  },
  {
   "cell_type": "code",
   "execution_count": 53,
   "metadata": {},
   "outputs": [
    {
     "name": "stdout",
     "output_type": "stream",
     "text": [
      "I'm just a language model, so I don't have feelings or emotions like humans do, but I'm functioning properly and ready to help with any questions or tasks you might have. How about you? How's your day going so far?\n"
     ]
    }
   ],
   "source": [
    "from langchain_groq import ChatGroq\n",
    "\n",
    "llm = ChatGroq(\n",
    "    temperature=0.0,\n",
    "    api_key=groq,\n",
    "    model=\"llama-3.3-70b-versatile\"\n",
    ")\n",
    "\n",
    "result = llm.invoke(\"Hi, how are you?\")\n",
    "print(result.content)"
   ]
  },
  {
   "cell_type": "code",
   "execution_count": 54,
   "metadata": {},
   "outputs": [],
   "source": [
    "def classification_node(state: State):\n",
    "    prompt = PromptTemplate(\n",
    "        input_variable = [\"text\"],\n",
    "        template = \"Classify the following text into one of the following categories: News, Blog, Research or Other. DO NOT PROVIDE REASON.\\n\\nText:{text}\\n\\nCategory:\"\n",
    "    )\n",
    "    message = HumanMessage(content = prompt.format(text = state[\"text\"]))\n",
    "\n",
    "    classification  = llm.invoke([message]).content.strip()\n",
    "    return {\"classification\":classification}\n",
    "\n",
    "def entity_extraction_node(state: State):\n",
    "    prompt = PromptTemplate(\n",
    "        input_variables = [\"text\"],\n",
    "        template = \"Extract all entities (Person, Organisation, Location, etc.) from the following text. Provide the result as a comma separated list. \\n\\n {text} \\n\\n Entities:\"\n",
    "    )\n",
    "\n",
    "    message = HumanMessage(content = prompt.format(text = state[\"text\"]))\n",
    "\n",
    "    entities = llm.invoke([message]).content.strip().split(\",  \")\n",
    "    return {\"entities\":entities}\n",
    "\n",
    "def summarization_node(state: State):\n",
    "    prompt = PromptTemplate(\n",
    "        input_variable = [\"text\"],\n",
    "        template = \"Summarize the following text into a small text\\n\\nText:{text}\\n\\nSummary:\"\n",
    "    )\n",
    "    message = HumanMessage(content = prompt.format(text = state[\"text\"]))\n",
    "\n",
    "    summary  = llm.invoke([message]).content.strip()\n",
    "    return {\"summary\":summary}"
   ]
  },
  {
   "cell_type": "code",
   "execution_count": 55,
   "metadata": {},
   "outputs": [],
   "source": [
    "workflow = StateGraph(State)\n",
    "\n",
    "workflow.add_node(\"classification_node\", classification_node)\n",
    "workflow.add_node(\"entity_extraction_node\", entity_extraction_node)\n",
    "workflow.add_node(\"summarization_node\", summarization_node)\n",
    "\n",
    "workflow.set_entry_point(\"classification_node\")\n",
    "workflow.add_edge(\"classification_node\", \"entity_extraction_node\")\n",
    "workflow.add_edge(\"entity_extraction_node\", \"summarization_node\")\n",
    "workflow.add_edge(\"summarization_node\", END)\n",
    "\n",
    "app = workflow.compile()\n"
   ]
  },
  {
   "cell_type": "code",
   "execution_count": 56,
   "metadata": {},
   "outputs": [
    {
     "data": {
      "image/png": "[encoded data removed]",
      "text/plain": [
       "<IPython.core.display.Image object>"
      ]
     },
     "metadata": {},
     "output_type": "display_data"
    }
   ],
   "source": [
    "display(\n",
    "    Image(\n",
    "        app.get_graph().draw_mermaid_png(\n",
    "            draw_method=MermaidDrawMethod.API\n",
    "        )\n",
    "    )\n",
    ")"
   ]
  },
  {
   "cell_type": "code",
   "execution_count": 57,
   "metadata": {},
   "outputs": [],
   "source": [
    "SAMPLE_TEXT = '''Papa John’s International, Inc., a Delaware corporation (referred to as the “Company,” “Papa John’s,” “Papa Johns” or in \n",
    "the first person notations of “we,” “us” and “our”), operates and franchises pizza delivery and carryout restaurants and, in \n",
    "certain international markets, dine-in and delivery restaurants under the trademark “Papa Johns.” Papa John’s began \n",
    "operations in 1984. At December 31, 2023, there were 5,906 Papa John’s restaurants in operation, consisting of 648 \n",
    "Company-owned and 5,258 franchised restaurants operating in 50 countries and territories. Our Company-owned \n",
    "restaurants include 98 restaurants operated under three joint venture arrangements. In discussions of our business, \n",
    "“Domestic” is defined as within the contiguous United States, “North America” includes Canada, and “International” \n",
    "includes the rest of the world other than North America. '''\n",
    "state_input = {\"text\": SAMPLE_TEXT}\n",
    "result = app.invoke(state_input)"
   ]
  },
  {
   "cell_type": "code",
   "execution_count": 58,
   "metadata": {},
   "outputs": [
    {
     "name": "stdout",
     "output_type": "stream",
     "text": [
      "Classication: Research\n",
      "\n",
      "Entities: [\"Papa John's International, Inc., Papa John's, Papa Johns, Delaware, United States, Canada, North America\"]\n",
      "\n",
      "Summary: Papa John's is a pizza restaurant chain that operates and franchises locations globally. As of 2023, there are 5,906 restaurants in 50 countries, with 648 company-owned and 5,258 franchised locations.\n"
     ]
    }
   ],
   "source": [
    "print(\"Classication:\", result[\"classification\"])\n",
    "print(\"\\nEntities:\", result[\"entities\"])\n",
    "print(\"\\nSummary:\", result[\"summary\"])"
   ]
  },
  {
   "cell_type": "code",
   "execution_count": null,
   "metadata": {},
   "outputs": [],
   "source": []
  }
 ],
 "metadata": {
  "kernelspec": {
   "display_name": ".venv",
   "language": "python",
   "name": "python3"
  },
  "language_info": {
   "codemirror_mode": {
    "name": "ipython",
    "version": 3
   },
   "file_extension": ".py",
   "mimetype": "text/x-python",
   "name": "python",
   "nbconvert_exporter": "python",
   "pygments_lexer": "ipython3",
   "version": "3.11.9"
  }
 },
 "nbformat": 4,
 "nbformat_minor": 2
}
